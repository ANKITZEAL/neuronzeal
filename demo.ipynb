{
 "cells": [
  {
   "cell_type": "code",
   "execution_count": 2,
   "source": [
    "import numpy as np"
   ],
   "outputs": [],
   "metadata": {
    "ExecuteTime": {
     "end_time": "2021-09-19T12:14:34.828889Z",
     "start_time": "2021-09-19T12:14:34.551197Z"
    }
   }
  },
  {
   "cell_type": "code",
   "execution_count": null,
   "source": [
    "\r\n",
    "\r\n",
    "\r\n",
    "\r\n",
    "\r\n",
    "from utils.model import Perceptron\r\n",
    "from utils.all_utils import prepare_data,save_plot,save_model\r\n",
    "import pandas as pd\r\n",
    "import numpy as np\r\n",
    "\r\n",
    "\r\n",
    "def main(data,eta,epochs,filename,plotFileName):\r\n",
    "   \r\n",
    "\r\n",
    "    df = pd.DataFrame(OR)\r\n",
    "    print(df)\r\n",
    "\r\n",
    "    df\r\n",
    "\r\n",
    "\r\n",
    "    X,y = prepare_data(df)\r\n",
    "\r\n",
    "   \r\n",
    "\r\n",
    "    model = Perceptron(eta=ETA, epochs=EPOCHS)\r\n",
    "    model.fit(X, y)\r\n",
    "\r\n",
    "    _ = model.total_loss() # dummy variable\r\n",
    "\r\n",
    "    save_model(model,filename=filename)\r\n",
    "    save_plot(df,plotFileName,model)\r\n",
    "\r\n",
    "\r\n",
    "\r\n",
    " \r\n",
    "\r\n",
    "OR = {\r\n",
    "\"x1\": [0,0,1,1],\r\n",
    "\"x2\": [0,1,0,1],\r\n",
    "\"y\": [0,0,0,1],\r\n",
    "}\r\n",
    "\r\n",
    "\r\n",
    "ETA = 0.3 # 0 and 1\r\n",
    "EPOCHS = 10\r\n",
    "main(data=OR,eta=ETA,epochs=EPOCHS,filename=\"or.model\",plotFileName=\"or.png\")"
   ],
   "outputs": [],
   "metadata": {}
  }
 ],
 "metadata": {
  "kernelspec": {
   "name": "python3",
   "display_name": "Python 3.8.11 64-bit ('neuronzeal': conda)"
  },
  "language_info": {
   "codemirror_mode": {
    "name": "ipython",
    "version": 3
   },
   "file_extension": ".py",
   "mimetype": "text/x-python",
   "name": "python",
   "nbconvert_exporter": "python",
   "pygments_lexer": "ipython3",
   "version": "3.8.11"
  },
  "interpreter": {
   "hash": "4e2b869c0b12faba31bed8dbf6f1ae89d2dd439b04a444130f2d7b503541d8eb"
  }
 },
 "nbformat": 4,
 "nbformat_minor": 5
}